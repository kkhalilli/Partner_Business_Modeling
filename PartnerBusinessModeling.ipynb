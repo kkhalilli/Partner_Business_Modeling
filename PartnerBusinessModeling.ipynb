{
 "cells": [
  {
   "cell_type": "code",
   "execution_count": 54,
   "id": "49791c44",
   "metadata": {},
   "outputs": [],
   "source": [
    "import pandas as pd"
   ]
  },
  {
   "cell_type": "code",
   "execution_count": 55,
   "id": "2c1f0d78",
   "metadata": {},
   "outputs": [
    {
     "data": {
      "text/html": [
       "<div>\n",
       "<style scoped>\n",
       "    .dataframe tbody tr th:only-of-type {\n",
       "        vertical-align: middle;\n",
       "    }\n",
       "\n",
       "    .dataframe tbody tr th {\n",
       "        vertical-align: top;\n",
       "    }\n",
       "\n",
       "    .dataframe thead th {\n",
       "        text-align: right;\n",
       "    }\n",
       "</style>\n",
       "<table border=\"1\" class=\"dataframe\">\n",
       "  <thead>\n",
       "    <tr style=\"text-align: right;\">\n",
       "      <th></th>\n",
       "      <th>Name</th>\n",
       "      <th>Trips Completed</th>\n",
       "      <th>Accept Rate</th>\n",
       "      <th>Supply Hours</th>\n",
       "      <th>Rating</th>\n",
       "    </tr>\n",
       "  </thead>\n",
       "  <tbody>\n",
       "    <tr>\n",
       "      <th>0</th>\n",
       "      <td>Abdul</td>\n",
       "      <td>1</td>\n",
       "      <td>100%</td>\n",
       "      <td>3</td>\n",
       "      <td>4.8</td>\n",
       "    </tr>\n",
       "    <tr>\n",
       "      <th>1</th>\n",
       "      <td>Abraham</td>\n",
       "      <td>12</td>\n",
       "      <td>83%</td>\n",
       "      <td>5</td>\n",
       "      <td>4.7</td>\n",
       "    </tr>\n",
       "    <tr>\n",
       "      <th>2</th>\n",
       "      <td>Adelina</td>\n",
       "      <td>1</td>\n",
       "      <td>100%</td>\n",
       "      <td>2</td>\n",
       "      <td>4.7</td>\n",
       "    </tr>\n",
       "    <tr>\n",
       "      <th>3</th>\n",
       "      <td>Akilah</td>\n",
       "      <td>1</td>\n",
       "      <td>100%</td>\n",
       "      <td>2</td>\n",
       "      <td>4.9</td>\n",
       "    </tr>\n",
       "    <tr>\n",
       "      <th>4</th>\n",
       "      <td>Alec</td>\n",
       "      <td>21</td>\n",
       "      <td>76%</td>\n",
       "      <td>11</td>\n",
       "      <td>5.0</td>\n",
       "    </tr>\n",
       "  </tbody>\n",
       "</table>\n",
       "</div>"
      ],
      "text/plain": [
       "      Name  Trips Completed Accept Rate  Supply Hours  Rating\n",
       "0    Abdul                1        100%             3     4.8\n",
       "1  Abraham               12         83%             5     4.7\n",
       "2  Adelina                1        100%             2     4.7\n",
       "3   Akilah                1        100%             2     4.9\n",
       "4     Alec               21         76%            11     5.0"
      ]
     },
     "execution_count": 55,
     "metadata": {},
     "output_type": "execute_result"
    }
   ],
   "source": [
    "df = pd.read_csv(\"Partner_Business_Modeling.csv\")\n",
    "df.head()"
   ]
  },
  {
   "cell_type": "code",
   "execution_count": 56,
   "id": "784136b8",
   "metadata": {},
   "outputs": [
    {
     "name": "stdout",
     "output_type": "stream",
     "text": [
      "<class 'pandas.core.frame.DataFrame'>\n",
      "RangeIndex: 119 entries, 0 to 118\n",
      "Data columns (total 5 columns):\n",
      " #   Column           Non-Null Count  Dtype  \n",
      "---  ------           --------------  -----  \n",
      " 0   Name             119 non-null    object \n",
      " 1   Trips Completed  119 non-null    int64  \n",
      " 2   Accept Rate      119 non-null    object \n",
      " 3   Supply Hours     119 non-null    int64  \n",
      " 4   Rating           119 non-null    float64\n",
      "dtypes: float64(1), int64(2), object(2)\n",
      "memory usage: 4.8+ KB\n"
     ]
    }
   ],
   "source": [
    "df.info()"
   ]
  },
  {
   "cell_type": "code",
   "execution_count": null,
   "id": "06464884",
   "metadata": {},
   "outputs": [],
   "source": []
  },
  {
   "cell_type": "code",
   "execution_count": 57,
   "id": "30d84374",
   "metadata": {},
   "outputs": [],
   "source": [
    "df['Accept Rate in %'] = df['Accept Rate'].str.strip('%').astype('int')\n",
    "df.drop('Accept Rate', inplace= True, axis = 1)"
   ]
  },
  {
   "cell_type": "code",
   "execution_count": 58,
   "id": "4f569855",
   "metadata": {},
   "outputs": [
    {
     "data": {
      "text/plain": [
       "0      100\n",
       "1       83\n",
       "2      100\n",
       "3      100\n",
       "4       76\n",
       "      ... \n",
       "114    100\n",
       "115     71\n",
       "116     88\n",
       "117     78\n",
       "118     86\n",
       "Name: Accept Rate in %, Length: 119, dtype: int32"
      ]
     },
     "execution_count": 58,
     "metadata": {},
     "output_type": "execute_result"
    }
   ],
   "source": [
    "df['Accept Rate in %']"
   ]
  },
  {
   "cell_type": "code",
   "execution_count": 59,
   "id": "65a26d7d",
   "metadata": {},
   "outputs": [
    {
     "data": {
      "text/html": [
       "<div>\n",
       "<style scoped>\n",
       "    .dataframe tbody tr th:only-of-type {\n",
       "        vertical-align: middle;\n",
       "    }\n",
       "\n",
       "    .dataframe tbody tr th {\n",
       "        vertical-align: top;\n",
       "    }\n",
       "\n",
       "    .dataframe thead th {\n",
       "        text-align: right;\n",
       "    }\n",
       "</style>\n",
       "<table border=\"1\" class=\"dataframe\">\n",
       "  <thead>\n",
       "    <tr style=\"text-align: right;\">\n",
       "      <th></th>\n",
       "      <th>Trips Completed</th>\n",
       "      <th>Supply Hours</th>\n",
       "      <th>Rating</th>\n",
       "      <th>Accept Rate in %</th>\n",
       "    </tr>\n",
       "  </thead>\n",
       "  <tbody>\n",
       "    <tr>\n",
       "      <th>count</th>\n",
       "      <td>119.000000</td>\n",
       "      <td>119.000000</td>\n",
       "      <td>119.000000</td>\n",
       "      <td>119.000000</td>\n",
       "    </tr>\n",
       "    <tr>\n",
       "      <th>mean</th>\n",
       "      <td>11.941176</td>\n",
       "      <td>7.084034</td>\n",
       "      <td>4.698571</td>\n",
       "      <td>85.092437</td>\n",
       "    </tr>\n",
       "    <tr>\n",
       "      <th>std</th>\n",
       "      <td>5.857480</td>\n",
       "      <td>2.794000</td>\n",
       "      <td>0.406876</td>\n",
       "      <td>18.833792</td>\n",
       "    </tr>\n",
       "    <tr>\n",
       "      <th>min</th>\n",
       "      <td>1.000000</td>\n",
       "      <td>1.000000</td>\n",
       "      <td>1.600000</td>\n",
       "      <td>19.000000</td>\n",
       "    </tr>\n",
       "    <tr>\n",
       "      <th>25%</th>\n",
       "      <td>8.000000</td>\n",
       "      <td>5.000000</td>\n",
       "      <td>4.600000</td>\n",
       "      <td>77.000000</td>\n",
       "    </tr>\n",
       "    <tr>\n",
       "      <th>50%</th>\n",
       "      <td>12.000000</td>\n",
       "      <td>7.000000</td>\n",
       "      <td>4.800000</td>\n",
       "      <td>91.000000</td>\n",
       "    </tr>\n",
       "    <tr>\n",
       "      <th>75%</th>\n",
       "      <td>15.000000</td>\n",
       "      <td>9.000000</td>\n",
       "      <td>4.900000</td>\n",
       "      <td>100.000000</td>\n",
       "    </tr>\n",
       "    <tr>\n",
       "      <th>max</th>\n",
       "      <td>31.000000</td>\n",
       "      <td>11.000000</td>\n",
       "      <td>5.000000</td>\n",
       "      <td>100.000000</td>\n",
       "    </tr>\n",
       "  </tbody>\n",
       "</table>\n",
       "</div>"
      ],
      "text/plain": [
       "       Trips Completed  Supply Hours      Rating  Accept Rate in %\n",
       "count       119.000000    119.000000  119.000000        119.000000\n",
       "mean         11.941176      7.084034    4.698571         85.092437\n",
       "std           5.857480      2.794000    0.406876         18.833792\n",
       "min           1.000000      1.000000    1.600000         19.000000\n",
       "25%           8.000000      5.000000    4.600000         77.000000\n",
       "50%          12.000000      7.000000    4.800000         91.000000\n",
       "75%          15.000000      9.000000    4.900000        100.000000\n",
       "max          31.000000     11.000000    5.000000        100.000000"
      ]
     },
     "execution_count": 59,
     "metadata": {},
     "output_type": "execute_result"
    }
   ],
   "source": [
    "df.describe()"
   ]
  },
  {
   "cell_type": "code",
   "execution_count": 60,
   "id": "1b3122f2",
   "metadata": {},
   "outputs": [
    {
     "data": {
      "image/png": "[encoded data removed]",
      "text/plain": [
       "<Figure size 720x504 with 1 Axes>"
      ]
     },
     "metadata": {
      "needs_background": "light"
     },
     "output_type": "display_data"
    }
   ],
   "source": [
    "_ = df.boxplot(column = \"Trips Completed\", figsize = (10,7))"
   ]
  },
  {
   "cell_type": "code",
   "execution_count": 61,
   "id": "e15b782c",
   "metadata": {},
   "outputs": [],
   "source": [
    "##How much would the total bonus payout be with Option 1?"
   ]
  },
  {
   "cell_type": "code",
   "execution_count": 62,
   "id": "a3e0252e",
   "metadata": {},
   "outputs": [
    {
     "data": {
      "text/html": [
       "<div>\n",
       "<style scoped>\n",
       "    .dataframe tbody tr th:only-of-type {\n",
       "        vertical-align: middle;\n",
       "    }\n",
       "\n",
       "    .dataframe tbody tr th {\n",
       "        vertical-align: top;\n",
       "    }\n",
       "\n",
       "    .dataframe thead th {\n",
       "        text-align: right;\n",
       "    }\n",
       "</style>\n",
       "<table border=\"1\" class=\"dataframe\">\n",
       "  <thead>\n",
       "    <tr style=\"text-align: right;\">\n",
       "      <th></th>\n",
       "      <th>Name</th>\n",
       "      <th>Trips Completed</th>\n",
       "      <th>Supply Hours</th>\n",
       "      <th>Rating</th>\n",
       "      <th>Accept Rate in %</th>\n",
       "    </tr>\n",
       "  </thead>\n",
       "  <tbody>\n",
       "    <tr>\n",
       "      <th>11</th>\n",
       "      <td>Byron</td>\n",
       "      <td>15</td>\n",
       "      <td>10</td>\n",
       "      <td>4.9</td>\n",
       "      <td>100</td>\n",
       "    </tr>\n",
       "    <tr>\n",
       "      <th>12</th>\n",
       "      <td>Carlota</td>\n",
       "      <td>14</td>\n",
       "      <td>8</td>\n",
       "      <td>5.0</td>\n",
       "      <td>100</td>\n",
       "    </tr>\n",
       "    <tr>\n",
       "      <th>19</th>\n",
       "      <td>Dannette</td>\n",
       "      <td>14</td>\n",
       "      <td>9</td>\n",
       "      <td>4.9</td>\n",
       "      <td>100</td>\n",
       "    </tr>\n",
       "    <tr>\n",
       "      <th>23</th>\n",
       "      <td>Demetrius</td>\n",
       "      <td>14</td>\n",
       "      <td>9</td>\n",
       "      <td>5.0</td>\n",
       "      <td>100</td>\n",
       "    </tr>\n",
       "    <tr>\n",
       "      <th>26</th>\n",
       "      <td>Dimple</td>\n",
       "      <td>15</td>\n",
       "      <td>10</td>\n",
       "      <td>4.9</td>\n",
       "      <td>100</td>\n",
       "    </tr>\n",
       "    <tr>\n",
       "      <th>32</th>\n",
       "      <td>Emil</td>\n",
       "      <td>12</td>\n",
       "      <td>9</td>\n",
       "      <td>5.0</td>\n",
       "      <td>100</td>\n",
       "    </tr>\n",
       "    <tr>\n",
       "      <th>37</th>\n",
       "      <td>Garth</td>\n",
       "      <td>15</td>\n",
       "      <td>10</td>\n",
       "      <td>5.0</td>\n",
       "      <td>100</td>\n",
       "    </tr>\n",
       "    <tr>\n",
       "      <th>40</th>\n",
       "      <td>Hanh</td>\n",
       "      <td>14</td>\n",
       "      <td>9</td>\n",
       "      <td>4.9</td>\n",
       "      <td>94</td>\n",
       "    </tr>\n",
       "    <tr>\n",
       "      <th>53</th>\n",
       "      <td>Keshia</td>\n",
       "      <td>20</td>\n",
       "      <td>11</td>\n",
       "      <td>4.8</td>\n",
       "      <td>100</td>\n",
       "    </tr>\n",
       "    <tr>\n",
       "      <th>57</th>\n",
       "      <td>Latonia</td>\n",
       "      <td>13</td>\n",
       "      <td>9</td>\n",
       "      <td>5.0</td>\n",
       "      <td>100</td>\n",
       "    </tr>\n",
       "    <tr>\n",
       "      <th>68</th>\n",
       "      <td>Luanne</td>\n",
       "      <td>12</td>\n",
       "      <td>11</td>\n",
       "      <td>4.9</td>\n",
       "      <td>96</td>\n",
       "    </tr>\n",
       "    <tr>\n",
       "      <th>69</th>\n",
       "      <td>Lyndsey</td>\n",
       "      <td>13</td>\n",
       "      <td>11</td>\n",
       "      <td>4.9</td>\n",
       "      <td>94</td>\n",
       "    </tr>\n",
       "    <tr>\n",
       "      <th>70</th>\n",
       "      <td>Lynwood</td>\n",
       "      <td>21</td>\n",
       "      <td>10</td>\n",
       "      <td>5.0</td>\n",
       "      <td>95</td>\n",
       "    </tr>\n",
       "    <tr>\n",
       "      <th>75</th>\n",
       "      <td>Man</td>\n",
       "      <td>23</td>\n",
       "      <td>10</td>\n",
       "      <td>5.0</td>\n",
       "      <td>100</td>\n",
       "    </tr>\n",
       "    <tr>\n",
       "      <th>76</th>\n",
       "      <td>Marica</td>\n",
       "      <td>16</td>\n",
       "      <td>10</td>\n",
       "      <td>5.0</td>\n",
       "      <td>90</td>\n",
       "    </tr>\n",
       "    <tr>\n",
       "      <th>84</th>\n",
       "      <td>Natalie</td>\n",
       "      <td>16</td>\n",
       "      <td>8</td>\n",
       "      <td>4.9</td>\n",
       "      <td>94</td>\n",
       "    </tr>\n",
       "    <tr>\n",
       "      <th>88</th>\n",
       "      <td>Oren</td>\n",
       "      <td>11</td>\n",
       "      <td>9</td>\n",
       "      <td>4.8</td>\n",
       "      <td>91</td>\n",
       "    </tr>\n",
       "    <tr>\n",
       "      <th>92</th>\n",
       "      <td>Phyllis</td>\n",
       "      <td>10</td>\n",
       "      <td>8</td>\n",
       "      <td>4.8</td>\n",
       "      <td>90</td>\n",
       "    </tr>\n",
       "    <tr>\n",
       "      <th>95</th>\n",
       "      <td>Salvador</td>\n",
       "      <td>15</td>\n",
       "      <td>11</td>\n",
       "      <td>4.8</td>\n",
       "      <td>100</td>\n",
       "    </tr>\n",
       "    <tr>\n",
       "      <th>98</th>\n",
       "      <td>Shandra</td>\n",
       "      <td>14</td>\n",
       "      <td>8</td>\n",
       "      <td>4.9</td>\n",
       "      <td>100</td>\n",
       "    </tr>\n",
       "    <tr>\n",
       "      <th>113</th>\n",
       "      <td>Vashti</td>\n",
       "      <td>12</td>\n",
       "      <td>11</td>\n",
       "      <td>4.9</td>\n",
       "      <td>92</td>\n",
       "    </tr>\n",
       "  </tbody>\n",
       "</table>\n",
       "</div>"
      ],
      "text/plain": [
       "          Name  Trips Completed  Supply Hours  Rating  Accept Rate in %\n",
       "11       Byron               15            10     4.9               100\n",
       "12     Carlota               14             8     5.0               100\n",
       "19    Dannette               14             9     4.9               100\n",
       "23   Demetrius               14             9     5.0               100\n",
       "26      Dimple               15            10     4.9               100\n",
       "32        Emil               12             9     5.0               100\n",
       "37       Garth               15            10     5.0               100\n",
       "40        Hanh               14             9     4.9                94\n",
       "53      Keshia               20            11     4.8               100\n",
       "57     Latonia               13             9     5.0               100\n",
       "68      Luanne               12            11     4.9                96\n",
       "69     Lyndsey               13            11     4.9                94\n",
       "70     Lynwood               21            10     5.0                95\n",
       "75         Man               23            10     5.0               100\n",
       "76      Marica               16            10     5.0                90\n",
       "84     Natalie               16             8     4.9                94\n",
       "88        Oren               11             9     4.8                91\n",
       "92     Phyllis               10             8     4.8                90\n",
       "95    Salvador               15            11     4.8               100\n",
       "98     Shandra               14             8     4.9               100\n",
       "113     Vashti               12            11     4.9                92"
      ]
     },
     "execution_count": 62,
     "metadata": {},
     "output_type": "execute_result"
    }
   ],
   "source": [
    "df1 = df[(df['Supply Hours'] >= 8) & (df['Trips Completed'] >= 10) & (df['Rating'] >= 4.7) & (df['Accept Rate in %'] >= 90)]\n",
    "df1"
   ]
  },
  {
   "cell_type": "code",
   "execution_count": 63,
   "id": "d452c240",
   "metadata": {},
   "outputs": [
    {
     "data": {
      "image/png": "[encoded data removed]",
      "text/plain": [
       "<Figure size 720x504 with 1 Axes>"
      ]
     },
     "metadata": {
      "needs_background": "light"
     },
     "output_type": "display_data"
    }
   ],
   "source": [
    "_ = df1.boxplot(column = \"Trips Completed\", figsize = (10,7))"
   ]
  },
  {
   "cell_type": "code",
   "execution_count": 64,
   "id": "a8a18e0f",
   "metadata": {},
   "outputs": [
    {
     "data": {
      "image/png": "[encoded data removed]",
      "text/plain": [
       "<Figure size 720x504 with 1 Axes>"
      ]
     },
     "metadata": {
      "needs_background": "light"
     },
     "output_type": "display_data"
    }
   ],
   "source": [
    "_ = df1.boxplot(column = \"Supply Hours\", figsize = (10,7))"
   ]
  },
  {
   "cell_type": "code",
   "execution_count": 65,
   "id": "569d7a09",
   "metadata": {},
   "outputs": [
    {
     "data": {
      "image/png": "[encoded data removed]",
      "text/plain": [
       "<Figure size 720x504 with 1 Axes>"
      ]
     },
     "metadata": {
      "needs_background": "light"
     },
     "output_type": "display_data"
    }
   ],
   "source": [
    "_ = df1.boxplot(column = \"Rating\", figsize = (10,7))"
   ]
  },
  {
   "cell_type": "code",
   "execution_count": 66,
   "id": "6915945c",
   "metadata": {},
   "outputs": [
    {
     "data": {
      "image/png": "[encoded data removed]",
      "text/plain": [
       "<Figure size 720x504 with 1 Axes>"
      ]
     },
     "metadata": {
      "needs_background": "light"
     },
     "output_type": "display_data"
    }
   ],
   "source": [
    "_ = df1.boxplot(column = \"Accept Rate in %\", figsize = (10,7))"
   ]
  },
  {
   "cell_type": "code",
   "execution_count": 67,
   "id": "a5b2b7f7",
   "metadata": {},
   "outputs": [
    {
     "data": {
      "text/plain": [
       "1050"
      ]
     },
     "execution_count": 67,
     "metadata": {},
     "output_type": "execute_result"
    }
   ],
   "source": [
    "option_1 = len(df1) * 50\n",
    "option_1"
   ]
  },
  {
   "cell_type": "code",
   "execution_count": 68,
   "id": "08a9365c",
   "metadata": {},
   "outputs": [],
   "source": [
    "# Option 2: $4/trip for all drivers who complete 12 trips, and have a 4.7 or better rating."
   ]
  },
  {
   "cell_type": "code",
   "execution_count": 69,
   "id": "05d4d491",
   "metadata": {},
   "outputs": [],
   "source": [
    "df2 = df[(df['Trips Completed'] >= 12) & (df['Rating'] >= 4.7)]"
   ]
  },
  {
   "cell_type": "code",
   "execution_count": 70,
   "id": "be814846",
   "metadata": {},
   "outputs": [
    {
     "data": {
      "text/plain": [
       "46"
      ]
     },
     "execution_count": 70,
     "metadata": {},
     "output_type": "execute_result"
    }
   ],
   "source": [
    "len(df2)"
   ]
  },
  {
   "cell_type": "code",
   "execution_count": 71,
   "id": "a44b9930",
   "metadata": {},
   "outputs": [],
   "source": [
    "df2 = df2.drop_duplicates(subset = ['Name','Trips Completed','Supply Hours','Rating','Accept Rate in %'] )"
   ]
  },
  {
   "cell_type": "code",
   "execution_count": 72,
   "id": "6719bc58",
   "metadata": {},
   "outputs": [
    {
     "data": {
      "text/plain": [
       "46"
      ]
     },
     "execution_count": 72,
     "metadata": {},
     "output_type": "execute_result"
    }
   ],
   "source": [
    "len(df2)"
   ]
  },
  {
   "cell_type": "code",
   "execution_count": 73,
   "id": "84da784f",
   "metadata": {},
   "outputs": [],
   "source": [
    "option_2 = 4 * (df2['Trips Completed'].sum())"
   ]
  },
  {
   "cell_type": "code",
   "execution_count": 74,
   "id": "f912d622",
   "metadata": {},
   "outputs": [
    {
     "data": {
      "text/plain": [
       "2976"
      ]
     },
     "execution_count": 74,
     "metadata": {},
     "output_type": "execute_result"
    }
   ],
   "source": [
    "option_2"
   ]
  },
  {
   "cell_type": "code",
   "execution_count": 75,
   "id": "f6a92d00",
   "metadata": {},
   "outputs": [],
   "source": [
    "# 3.How many drivers would qualify for a bonus under Option 1 but not under Option 2?"
   ]
  },
  {
   "cell_type": "code",
   "execution_count": 76,
   "id": "06460575",
   "metadata": {},
   "outputs": [
    {
     "data": {
      "text/html": [
       "<div>\n",
       "<style scoped>\n",
       "    .dataframe tbody tr th:only-of-type {\n",
       "        vertical-align: middle;\n",
       "    }\n",
       "\n",
       "    .dataframe tbody tr th {\n",
       "        vertical-align: top;\n",
       "    }\n",
       "\n",
       "    .dataframe thead th {\n",
       "        text-align: right;\n",
       "    }\n",
       "</style>\n",
       "<table border=\"1\" class=\"dataframe\">\n",
       "  <thead>\n",
       "    <tr style=\"text-align: right;\">\n",
       "      <th></th>\n",
       "      <th>Name</th>\n",
       "      <th>Trips Completed</th>\n",
       "      <th>Supply Hours</th>\n",
       "      <th>Rating</th>\n",
       "      <th>Accept Rate in %</th>\n",
       "    </tr>\n",
       "  </thead>\n",
       "  <tbody>\n",
       "    <tr>\n",
       "      <th>88</th>\n",
       "      <td>Oren</td>\n",
       "      <td>11</td>\n",
       "      <td>9</td>\n",
       "      <td>4.8</td>\n",
       "      <td>91</td>\n",
       "    </tr>\n",
       "    <tr>\n",
       "      <th>92</th>\n",
       "      <td>Phyllis</td>\n",
       "      <td>10</td>\n",
       "      <td>8</td>\n",
       "      <td>4.8</td>\n",
       "      <td>90</td>\n",
       "    </tr>\n",
       "  </tbody>\n",
       "</table>\n",
       "</div>"
      ],
      "text/plain": [
       "       Name  Trips Completed  Supply Hours  Rating  Accept Rate in %\n",
       "88     Oren               11             9     4.8                91\n",
       "92  Phyllis               10             8     4.8                90"
      ]
     },
     "execution_count": 76,
     "metadata": {},
     "output_type": "execute_result"
    }
   ],
   "source": [
    "df3 = df[(df['Supply Hours'] >= 8) & (df['Trips Completed'] >= 10) & (df['Trips Completed'] < 12) & (df['Rating'] >= 4.7) & (df['Accept Rate in %'] >= 90)]\n",
    "diff_option1 = len(df3)\n",
    "df3"
   ]
  },
  {
   "cell_type": "code",
   "execution_count": 80,
   "id": "c915d912",
   "metadata": {},
   "outputs": [
    {
     "data": {
      "text/html": [
       "<div>\n",
       "<style scoped>\n",
       "    .dataframe tbody tr th:only-of-type {\n",
       "        vertical-align: middle;\n",
       "    }\n",
       "\n",
       "    .dataframe tbody tr th {\n",
       "        vertical-align: top;\n",
       "    }\n",
       "\n",
       "    .dataframe thead th {\n",
       "        text-align: right;\n",
       "    }\n",
       "</style>\n",
       "<table border=\"1\" class=\"dataframe\">\n",
       "  <thead>\n",
       "    <tr style=\"text-align: right;\">\n",
       "      <th></th>\n",
       "      <th>Name</th>\n",
       "      <th>Trips Completed</th>\n",
       "      <th>Supply Hours</th>\n",
       "      <th>Rating</th>\n",
       "      <th>Accept Rate in %</th>\n",
       "      <th>_merge</th>\n",
       "    </tr>\n",
       "  </thead>\n",
       "  <tbody>\n",
       "    <tr>\n",
       "      <th>16</th>\n",
       "      <td>Oren</td>\n",
       "      <td>11</td>\n",
       "      <td>9</td>\n",
       "      <td>4.8</td>\n",
       "      <td>91</td>\n",
       "      <td>left_only</td>\n",
       "    </tr>\n",
       "    <tr>\n",
       "      <th>17</th>\n",
       "      <td>Phyllis</td>\n",
       "      <td>10</td>\n",
       "      <td>8</td>\n",
       "      <td>4.8</td>\n",
       "      <td>90</td>\n",
       "      <td>left_only</td>\n",
       "    </tr>\n",
       "  </tbody>\n",
       "</table>\n",
       "</div>"
      ],
      "text/plain": [
       "       Name  Trips Completed  Supply Hours  Rating  Accept Rate in %  \\\n",
       "16     Oren               11             9     4.8                91   \n",
       "17  Phyllis               10             8     4.8                90   \n",
       "\n",
       "       _merge  \n",
       "16  left_only  \n",
       "17  left_only  "
      ]
     },
     "execution_count": 80,
     "metadata": {},
     "output_type": "execute_result"
    }
   ],
   "source": [
    "#second option\n",
    "df3 = df1.merge(df2, on = df1.columns.to_list(), how = \"left\", indicator = True)\n",
    "df3\n",
    "# included by only option 1\n",
    "df3[df3[\"_merge\"] == 'left_only']"
   ]
  },
  {
   "cell_type": "code",
   "execution_count": null,
   "id": "afea1074",
   "metadata": {},
   "outputs": [],
   "source": [
    "# 4.What percentages of drivers online completed less than 10 trips, had an acceptance rate of less than 90%, and had a rating of 4.7 or higher?"
   ]
  },
  {
   "cell_type": "code",
   "execution_count": null,
   "id": "f4ba0246",
   "metadata": {},
   "outputs": [],
   "source": [
    "df4 = df[(df['Trips Completed'] < 10) & (df['Rating'] >= 4.7) & (df['Accept Rate in %'] < 90)]\n",
    "percentage = len(df4)/len(df) * 100\n",
    "percentage"
   ]
  },
  {
   "cell_type": "code",
   "execution_count": null,
   "id": "029cfa60",
   "metadata": {},
   "outputs": [],
   "source": [
    "# Scenario 2\n",
    "# How much money (after expenses) does the taxi driver make per year without partnering with Uber?"
   ]
  },
  {
   "cell_type": "code",
   "execution_count": null,
   "id": "70422583",
   "metadata": {},
   "outputs": [],
   "source": [
    "total_weeks_per_year = 52\n",
    "weeks_off = 3\n",
    "fare_per_day = 200 \n",
    "workday_per_week = 6\n",
    "total_months_per_year = 12\n",
    "# expenses\n",
    "gas_per_week = 200\n",
    "insurance_per_month = 400\n",
    "vehicle_rent_by_week = 500"
   ]
  },
  {
   "cell_type": "code",
   "execution_count": null,
   "id": "16648c81",
   "metadata": {},
   "outputs": [],
   "source": [
    "total_expenses = (gas_per_week + vehicle_rent_by_week) * (total_weeks_per_year - weeks_off) + insurance_per_month * total_months_per_year\n",
    "print(\"$\"+str(total_expenses))"
   ]
  },
  {
   "cell_type": "code",
   "execution_count": null,
   "id": "c3868511",
   "metadata": {},
   "outputs": [],
   "source": [
    "total_revenue = (total_weeks_per_year - weeks_off) * workday_per_week * fare_per_day\n",
    "print(\"$\"+str(total_revenue))"
   ]
  },
  {
   "cell_type": "code",
   "execution_count": null,
   "id": "2c306db3",
   "metadata": {},
   "outputs": [],
   "source": [
    "profit_margin = (total_revenue - total_expenses) / total_revenue\n",
    "print(str(round(profit_margin * 100, 2)) + \"%\")"
   ]
  },
  {
   "cell_type": "code",
   "execution_count": null,
   "id": "610cd1f6",
   "metadata": {},
   "outputs": [],
   "source": [
    "# Question 6\n",
    "\n",
    "# calculate new expenses\n",
    "gas_per_week = gas_per_week * 1.05\n",
    "insurance_per_month = insurance_per_month * 0.8\n",
    "new_car = 40000\n",
    "\n",
    "new_total_expenses = new_car + gas_per_week * (total_weeks_per_year - weeks_off) + insurance_per_month * total_months_per_year\n",
    "print(\"$\"+str(new_total_expenses))"
   ]
  },
  {
   "cell_type": "code",
   "execution_count": null,
   "id": "71d96f1d",
   "metadata": {},
   "outputs": [],
   "source": [
    "# profit margin is the total revenue from previous question minus new expenses\n",
    "new_profit_margin = (total_revenue - new_total_expenses) / total_revenue\n",
    "print(str(round(new_profit_margin * 100, 2)) + \"%\")"
   ]
  },
  {
   "cell_type": "code",
   "execution_count": null,
   "id": "617113f3",
   "metadata": {},
   "outputs": [],
   "source": [
    "# calculate the weekly fare increase\n",
    "fare_increase = total_revenue * (profit_margin - new_profit_margin) / (total_weeks_per_year - weeks_off)\n",
    "print(\"$\"+str(round(fare_increase, 2)))"
   ]
  }
 ],
 "metadata": {
  "kernelspec": {
   "display_name": "Python 3 (ipykernel)",
   "language": "python",
   "name": "python3"
  },
  "language_info": {
   "codemirror_mode": {
    "name": "ipython",
    "version": 3
   },
   "file_extension": ".py",
   "mimetype": "text/x-python",
   "name": "python",
   "nbconvert_exporter": "python",
   "pygments_lexer": "ipython3",
   "version": "3.9.12"
  }
 },
 "nbformat": 4,
 "nbformat_minor": 5
}
